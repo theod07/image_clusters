{
 "cells": [
  {
   "cell_type": "code",
   "execution_count": 29,
   "metadata": {
    "collapsed": false
   },
   "outputs": [
    {
     "data": {
      "text/plain": [
       "' Go to the link for the user'"
      ]
     },
     "execution_count": 29,
     "metadata": {},
     "output_type": "execute_result"
    }
   ],
   "source": [
    "# from bs4 import BeautifulSoup\n",
    "# import selenium.webdriver as webdriver\n",
    "# from selenium.webdriver.common.keys import Keys\n",
    "# import time\n",
    "# import os\n",
    "# import urllib\n",
    "# from selenium.common.exceptions import NoSuchElementException\n",
    "\n",
    "user = 'taylorswift'\n",
    "url = 'http://instagram.com/'+user\n",
    "\n",
    "driver = webdriver.Firefox()\n",
    "driver.get(url)\n",
    "\n",
    "# soup = BeautifulSoup(driver.page_source)\n",
    "# contents = soup.contents\n",
    "\n",
    "''' Need to click \"LOAD MORE\" button at bottom of initial page to reveal photos '''\n",
    "# try:\n",
    "#     driver.find_element_by_link_text('LOAD MORE').click()\n",
    "# except NoSuchElementException:\n",
    "#     print 'Sorry, this page isnt available: ', user\n",
    "\n",
    "\n",
    "''' Infinite scroll. Scroll down to bottom of page to reveal more photos\n",
    "    Need to find a smart way to scroll down until reach end of page '''\n",
    "for i in xrange(5):\n",
    "    driver.execute_script('window.scrollTo(0, document.body.scrollHeight);')\n",
    "    time.sleep(2)\n",
    "\n",
    "''' Find href links to all photos on user`s opening page '''\n",
    "all_a_tags = driver.find_elements_by_tag_name('a')\n",
    "links = [a_tag.get_attribute('href') for a_tag in all_a_tags if a_tag.get_attribute('class') == '_8mlbc _t5r8b']\n",
    "\n",
    "\n",
    "''' Go to the link for the user'''\n",
    "source_links = []\n",
    "yes_ovg3g = 0\n",
    "# no_ovg3g = 0\n",
    "for link in links:\n",
    "    \n",
    "    driver.get(link)\n",
    "    tags = driver.find_elements_by_class_name('_ovg3g')\n",
    "    if len(tags) > 0:\n",
    "        yes_ovg3g += 1\n",
    "    else:\n",
    "        print link\n",
    "    for tag in tags:\n",
    "        source_links.append(tag.get_attribute('data-reactid'))\n",
    "    time.sleep(1)\n",
    "\n",
    "# sample = source_links[0]\n",
    "# print sample\n",
    "# print sample.replace('=1','.')\n",
    "# print sample.replace('=2', ':')\n",
    "# current = sample.replace('=1','.').replace('=2',':')\n",
    "# rightside = current.split('http')[1]\n",
    "# middle = rightside.split('.jpg')[0]\n",
    "# string = 'http'+middle+'.jpg'\n",
    "\n",
    "# driver.close()\n",
    "        "
   ]
  },
  {
   "cell_type": "code",
   "execution_count": 218,
   "metadata": {
    "collapsed": true
   },
   "outputs": [],
   "source": [
    "# user = 'taylorswift'\n",
    "# url = 'http://instagram.com/'+user\n",
    "\n",
    "# fp = webdriver.FirefoxProfile()\n",
    "\n",
    "# fp.set_preference(\"browser.download.folderList\",2)\n",
    "# fp.set_preference(\"browser.download.manager.showWhenStarting\", False)\n",
    "# fp.set_preference(\"browser.download.dir\", os.getcwd())\n",
    "# fp.set_preference(\"browser.helperApps.neverAsk.saveToDisk\", \"application/octet-stream\")\n",
    "\n",
    "# driver = webdriver.Firefox(firefox_profile=fp)\n",
    "# driver.get(url)\n",
    "# # browser.get(\"http://pypi.python.org/pypi/selenium\")\n",
    "# # browser.find_element_by_partial_link_text(\"selenium-2\").click()\n",
    "\n",
    "# driver.find_element_by_link_text('LOAD MORE').click()\n",
    "\n",
    "# for i in xrange(5):\n",
    "#     driver.execute_script('window.scrollTo(0, document.body.scrollHeight);')\n",
    "#     time.sleep(1)\n",
    "\n"
   ]
  },
  {
   "cell_type": "code",
   "execution_count": 32,
   "metadata": {
    "collapsed": false
   },
   "outputs": [
    {
     "data": {
      "text/plain": [
       "'12783439_227038377646495_165023836_n.jpg'"
      ]
     },
     "execution_count": 32,
     "metadata": {},
     "output_type": "execute_result"
    }
   ],
   "source": [
    "url = 'https://scontent-iad3-1.cdninstagram.com/t51.2885-15/e35/12783439_227038377646495_165023836_n.jpg'\n",
    "# title = 'test_image_'\n",
    "# urllib.urlretrieve(url, filename='./'+title+'.jpg')\n",
    "url.split('/')[-1]"
   ]
  },
  {
   "cell_type": "code",
   "execution_count": 43,
   "metadata": {
    "collapsed": false
   },
   "outputs": [
    {
     "name": "stdout",
     "output_type": "stream",
     "text": [
      "directory already exists\n",
      "directory already exists\n",
      "directory already exists\n"
     ]
    }
   ],
   "source": [
    "# source_links\n",
    "import threading\n",
    "\n",
    "def reactid_to_srcurl(reactids):\n",
    "    '''\n",
    "    convert reactid strings to img source url strings\n",
    "    '''\n",
    "    src_urls = []\n",
    "    for reactid in reactids:\n",
    "        current = reactid.replace('=1','.').replace('=2',':')\n",
    "        chop_l = current.split('http')[1]\n",
    "        chopped = chop_l.split('.jpg')[0]\n",
    "        src_urls.append('http'+chopped+'.jpg')\n",
    "    return src_urls\n",
    "\n",
    "def download_file(url, save_dir):\n",
    "    filename = url.split('/')[-1]\n",
    "    urllib.urlretrieve(url, save_dir+filename)\n",
    "    return\n",
    "\n",
    "# source_links = reactid_to_srcurl(source_links)\n",
    "\n",
    "num_threads = 4\n",
    "while len(source_links) > 0:\n",
    "    threads = []\n",
    "    \n",
    "    if len(source_links) >= num_threads:\n",
    "        subset = [source_links.pop() for i in range(num_threads)]\n",
    "    else:\n",
    "        subset = [source_links.pop() for link in source_links]\n",
    "    \n",
    "    for link in subset:\n",
    "        try:\n",
    "            os.mkdir('./levelone/leveltwo/')\n",
    "            t = threading.Thread(target=download_file, args=(link, './levelone/leveltwo/'))\n",
    "            t.start()\n",
    "            threads.append(t)\n",
    "        except OSError:\n",
    "            print 'directory already exists'\n",
    "            t = threading.Thread(target=download_file, args=(link, './levelone/leveltwo/'))\n",
    "            t.start()\n",
    "            threads.append(t)\n",
    "            \n",
    "    for thread in threads: thread.join()\n"
   ]
  },
  {
   "cell_type": "code",
   "execution_count": 31,
   "metadata": {
    "collapsed": false
   },
   "outputs": [],
   "source": [
    "driver.close()"
   ]
  },
  {
   "cell_type": "code",
   "execution_count": 44,
   "metadata": {
    "collapsed": false
   },
   "outputs": [
    {
     "data": {
      "text/plain": [
       "[]"
      ]
     },
     "execution_count": 44,
     "metadata": {},
     "output_type": "execute_result"
    }
   ],
   "source": [
    "source_links"
   ]
  },
  {
   "cell_type": "code",
   "execution_count": 39,
   "metadata": {
    "collapsed": false
   },
   "outputs": [
    {
     "ename": "IOError",
     "evalue": "[Errno 2] No such file or directory: './levelone/leveltwo/12783439_227038377646495_165023836_n.jpg'",
     "output_type": "error",
     "traceback": [
      "\u001b[0;31m---------------------------------------------------------------------------\u001b[0m",
      "\u001b[0;31mIOError\u001b[0m                                   Traceback (most recent call last)",
      "\u001b[0;32m<ipython-input-39-f3704b2dcd25>\u001b[0m in \u001b[0;36m<module>\u001b[0;34m()\u001b[0m\n\u001b[1;32m      1\u001b[0m \u001b[0;31m# save_dir = './levelone/leveltwo/'\u001b[0m\u001b[0;34m\u001b[0m\u001b[0;34m\u001b[0m\u001b[0m\n\u001b[0;32m----> 2\u001b[0;31m \u001b[0mdownload_file\u001b[0m\u001b[0;34m(\u001b[0m\u001b[0murl\u001b[0m\u001b[0;34m,\u001b[0m \u001b[0msave_dir\u001b[0m\u001b[0;34m)\u001b[0m\u001b[0;34m\u001b[0m\u001b[0m\n\u001b[0m",
      "\u001b[0;32m<ipython-input-36-41f480a0a924>\u001b[0m in \u001b[0;36mdownload_file\u001b[0;34m(url, save_dir)\u001b[0m\n\u001b[1;32m     16\u001b[0m \u001b[0;32mdef\u001b[0m \u001b[0mdownload_file\u001b[0m\u001b[0;34m(\u001b[0m\u001b[0murl\u001b[0m\u001b[0;34m,\u001b[0m \u001b[0msave_dir\u001b[0m\u001b[0;34m)\u001b[0m\u001b[0;34m:\u001b[0m\u001b[0;34m\u001b[0m\u001b[0m\n\u001b[1;32m     17\u001b[0m     \u001b[0mfilename\u001b[0m \u001b[0;34m=\u001b[0m \u001b[0murl\u001b[0m\u001b[0;34m.\u001b[0m\u001b[0msplit\u001b[0m\u001b[0;34m(\u001b[0m\u001b[0;34m'/'\u001b[0m\u001b[0;34m)\u001b[0m\u001b[0;34m[\u001b[0m\u001b[0;34m-\u001b[0m\u001b[0;36m1\u001b[0m\u001b[0;34m]\u001b[0m\u001b[0;34m\u001b[0m\u001b[0m\n\u001b[0;32m---> 18\u001b[0;31m     \u001b[0murllib\u001b[0m\u001b[0;34m.\u001b[0m\u001b[0murlretrieve\u001b[0m\u001b[0;34m(\u001b[0m\u001b[0murl\u001b[0m\u001b[0;34m,\u001b[0m \u001b[0msave_dir\u001b[0m\u001b[0;34m+\u001b[0m\u001b[0mfilename\u001b[0m\u001b[0;34m)\u001b[0m\u001b[0;34m\u001b[0m\u001b[0m\n\u001b[0m\u001b[1;32m     19\u001b[0m     \u001b[0;32mreturn\u001b[0m\u001b[0;34m\u001b[0m\u001b[0m\n\u001b[1;32m     20\u001b[0m \u001b[0;34m\u001b[0m\u001b[0m\n",
      "\u001b[0;32m/Users/wonder/anaconda/lib/python2.7/urllib.pyc\u001b[0m in \u001b[0;36murlretrieve\u001b[0;34m(url, filename, reporthook, data, context)\u001b[0m\n\u001b[1;32m     96\u001b[0m     \u001b[0;32melse\u001b[0m\u001b[0;34m:\u001b[0m\u001b[0;34m\u001b[0m\u001b[0m\n\u001b[1;32m     97\u001b[0m         \u001b[0mopener\u001b[0m \u001b[0;34m=\u001b[0m \u001b[0m_urlopener\u001b[0m\u001b[0;34m\u001b[0m\u001b[0m\n\u001b[0;32m---> 98\u001b[0;31m     \u001b[0;32mreturn\u001b[0m \u001b[0mopener\u001b[0m\u001b[0;34m.\u001b[0m\u001b[0mretrieve\u001b[0m\u001b[0;34m(\u001b[0m\u001b[0murl\u001b[0m\u001b[0;34m,\u001b[0m \u001b[0mfilename\u001b[0m\u001b[0;34m,\u001b[0m \u001b[0mreporthook\u001b[0m\u001b[0;34m,\u001b[0m \u001b[0mdata\u001b[0m\u001b[0;34m)\u001b[0m\u001b[0;34m\u001b[0m\u001b[0m\n\u001b[0m\u001b[1;32m     99\u001b[0m \u001b[0;32mdef\u001b[0m \u001b[0murlcleanup\u001b[0m\u001b[0;34m(\u001b[0m\u001b[0;34m)\u001b[0m\u001b[0;34m:\u001b[0m\u001b[0;34m\u001b[0m\u001b[0m\n\u001b[1;32m    100\u001b[0m     \u001b[0;32mif\u001b[0m \u001b[0m_urlopener\u001b[0m\u001b[0;34m:\u001b[0m\u001b[0;34m\u001b[0m\u001b[0m\n",
      "\u001b[0;32m/Users/wonder/anaconda/lib/python2.7/urllib.pyc\u001b[0m in \u001b[0;36mretrieve\u001b[0;34m(self, url, filename, reporthook, data)\u001b[0m\n\u001b[1;32m    247\u001b[0m             \u001b[0mheaders\u001b[0m \u001b[0;34m=\u001b[0m \u001b[0mfp\u001b[0m\u001b[0;34m.\u001b[0m\u001b[0minfo\u001b[0m\u001b[0;34m(\u001b[0m\u001b[0;34m)\u001b[0m\u001b[0;34m\u001b[0m\u001b[0m\n\u001b[1;32m    248\u001b[0m             \u001b[0;32mif\u001b[0m \u001b[0mfilename\u001b[0m\u001b[0;34m:\u001b[0m\u001b[0;34m\u001b[0m\u001b[0m\n\u001b[0;32m--> 249\u001b[0;31m                 \u001b[0mtfp\u001b[0m \u001b[0;34m=\u001b[0m \u001b[0mopen\u001b[0m\u001b[0;34m(\u001b[0m\u001b[0mfilename\u001b[0m\u001b[0;34m,\u001b[0m \u001b[0;34m'wb'\u001b[0m\u001b[0;34m)\u001b[0m\u001b[0;34m\u001b[0m\u001b[0m\n\u001b[0m\u001b[1;32m    250\u001b[0m             \u001b[0;32melse\u001b[0m\u001b[0;34m:\u001b[0m\u001b[0;34m\u001b[0m\u001b[0m\n\u001b[1;32m    251\u001b[0m                 \u001b[0;32mimport\u001b[0m \u001b[0mtempfile\u001b[0m\u001b[0;34m\u001b[0m\u001b[0m\n",
      "\u001b[0;31mIOError\u001b[0m: [Errno 2] No such file or directory: './levelone/leveltwo/12783439_227038377646495_165023836_n.jpg'"
     ]
    }
   ],
   "source": [
    "# save_dir = './levelone/leveltwo/'\n",
    "download_file(url, save_dir)"
   ]
  },
  {
   "cell_type": "markdown",
   "metadata": {},
   "source": [
    "instagram pages stopped loading @ [ walaad, stylelist, burberry ]"
   ]
  }
 ],
 "metadata": {
  "kernelspec": {
   "display_name": "Python 2",
   "language": "python",
   "name": "python2"
  },
  "language_info": {
   "codemirror_mode": {
    "name": "ipython",
    "version": 2
   },
   "file_extension": ".py",
   "mimetype": "text/x-python",
   "name": "python",
   "nbconvert_exporter": "python",
   "pygments_lexer": "ipython2",
   "version": "2.7.11"
  }
 },
 "nbformat": 4,
 "nbformat_minor": 0
}
