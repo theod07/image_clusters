{
 "cells": [
  {
   "cell_type": "code",
   "execution_count": 3,
   "metadata": {
    "collapsed": false
   },
   "outputs": [
    {
     "name": "stdout",
     "output_type": "stream",
     "text": [
      "https://www.instagram.com/p/BCgU12zDvH4/?taken-by=taylorswift\n",
      "https://www.instagram.com/p/BCejNXaDvAS/?taken-by=taylorswift\n",
      "https://www.instagram.com/p/BCD8yivjvAQ/?taken-by=taylorswift\n",
      "https://www.instagram.com/p/BCCbRs-jvPM/?taken-by=taylorswift\n",
      "https://www.instagram.com/p/BB6QpQWDvCQ/?taken-by=taylorswift\n"
     ]
    }
   ],
   "source": [
    "# from bs4 import BeautifulSoup\n",
    "# import selenium.webdriver as webdriver\n",
    "# from selenium.webdriver.common.keys import Keys\n",
    "# import time\n",
    "# import os\n",
    "# from selenium.common.exceptions import NoSuchElementException\n",
    "\n",
    "# user = 'taylorswift'\n",
    "# url = 'http://instagram.com/'+user\n",
    "\n",
    "# driver = webdriver.Firefox()\n",
    "# driver.get(url)\n",
    "\n",
    "# soup = BeautifulSoup(driver.page_source)\n",
    "# contents = soup.contents\n",
    "\n",
    "''' Need to click \"LOAD MORE\" button at bottom of initial page to reveal photos '''\n",
    "# try:\n",
    "#     driver.find_element_by_link_text('LOAD MORE').click()\n",
    "# except NoSuchElementException:\n",
    "#     print 'Sorry, this page isnt available: ', user\n",
    "\n",
    "\n",
    "''' Infinite scroll. Scroll down to bottom of page to reveal more photos\n",
    "    Need to find a smart way to scroll down until reach end of page '''\n",
    "# for i in xrange(5):\n",
    "#     driver.execute_script('window.scrollTo(0, document.body.scrollHeight);')\n",
    "#     time.sleep(1)\n",
    "\n",
    "''' Find href links to all photos on user`s opening page '''\n",
    "# all_a_tags = driver.find_elements_by_tag_name('a')\n",
    "# links = [a_tag.get_attribute('href') for a_tag in all_a_tags if a_tag.get_attribute('class') == '_8mlbc _t5r8b']\n",
    "\n",
    "\n",
    "''' Go to the link for the user'''\n",
    "source_links = []\n",
    "yes_ovg3g = 0\n",
    "no_ovg3g = 0\n",
    "for link in links:\n",
    "    \n",
    "    driver.get(link)\n",
    "    tags = driver.find_elements_by_class_name('_ovg3g')\n",
    "    if len(tags) > 0:\n",
    "        yes_ovg3g += 1\n",
    "    else:\n",
    "        print link\n",
    "    for tag in tags:\n",
    "        source_links.append(tag.get_attribute('data-reactid'))\n",
    "#     time.sleep(1)\n",
    "\n",
    "# print 'len(links): ', len(links)\n",
    "# print 'len(source_links): ', len(source_links)\n",
    "# print 'has_ovg3g: ', has_ovg3g\n",
    "# source_links[:20]\n",
    "\n",
    "# time.sleep(0)\n",
    "# len(links):  854\n",
    "# len(source_links):  24\n",
    "# has_ovg3g:  24\n",
    "\n",
    "# time.sleep(.2)\n",
    "# len(links):  854\n",
    "# len(source_links):  37\n",
    "# has_ovg3g:  37\n",
    "\n",
    "# time.sleep(1)\n",
    "# len(links):  854\n",
    "# len(source_links):  37\n",
    "# has_ovg3g:  37\n",
    "\n",
    "# driver.close()\n",
    "        "
   ]
  },
  {
   "cell_type": "code",
   "execution_count": 218,
   "metadata": {
    "collapsed": true
   },
   "outputs": [],
   "source": [
    "# user = 'taylorswift'\n",
    "# url = 'http://instagram.com/'+user\n",
    "\n",
    "# fp = webdriver.FirefoxProfile()\n",
    "\n",
    "# fp.set_preference(\"browser.download.folderList\",2)\n",
    "# fp.set_preference(\"browser.download.manager.showWhenStarting\", False)\n",
    "# fp.set_preference(\"browser.download.dir\", os.getcwd())\n",
    "# fp.set_preference(\"browser.helperApps.neverAsk.saveToDisk\", \"application/octet-stream\")\n",
    "\n",
    "# driver = webdriver.Firefox(firefox_profile=fp)\n",
    "# driver.get(url)\n",
    "# # browser.get(\"http://pypi.python.org/pypi/selenium\")\n",
    "# # browser.find_element_by_partial_link_text(\"selenium-2\").click()\n",
    "\n",
    "# driver.find_element_by_link_text('LOAD MORE').click()\n",
    "\n",
    "# for i in xrange(5):\n",
    "#     driver.execute_script('window.scrollTo(0, document.body.scrollHeight);')\n",
    "#     time.sleep(1)\n",
    "\n"
   ]
  },
  {
   "cell_type": "code",
   "execution_count": 26,
   "metadata": {
    "collapsed": false
   },
   "outputs": [
    {
     "data": {
      "text/plain": [
       "u'https://scontent-iad3-1.cdninstagram.com/t51.2885-15/e35/12783439_227038377646495_165023836_n.jpg'"
      ]
     },
     "execution_count": 26,
     "metadata": {},
     "output_type": "execute_result"
    }
   ],
   "source": [
    "# links\n",
    "# source_links\n",
    "# sample = source_links[0]\n",
    "# print sample\n",
    "# print sample.replace('=1','.')\n",
    "# print sample.replace('=2', ':')\n",
    "current = sample.replace('=1','.').replace('=2',':')\n",
    "rightside = current.split('http')[1]\n",
    "middle = rightside.split('.jpg')[0]\n",
    "string = 'http'+middle+'.jpg'\n",
    "string"
   ]
  },
  {
   "cell_type": "code",
   "execution_count": null,
   "metadata": {
    "collapsed": true
   },
   "outputs": [],
   "source": []
  },
  {
   "cell_type": "code",
   "execution_count": 22,
   "metadata": {
    "collapsed": false
   },
   "outputs": [
    {
     "data": {
      "text/plain": [
       "u's://scontent-iad3-1.cdninstagram.com/t51.2885-15/e35/12783439_227038377646495_165023836_n'"
      ]
     },
     "execution_count": 22,
     "metadata": {},
     "output_type": "execute_result"
    }
   ],
   "source": [
    "rightside"
   ]
  },
  {
   "cell_type": "code",
   "execution_count": 15,
   "metadata": {
    "collapsed": false
   },
   "outputs": [
    {
     "data": {
      "text/plain": [
       "u'.0.1.0.0.0.$https=2//scontent-iad3-1=1cdninstagram=1com/t51=12885-15/e35/12783439_227038377646495_165023836_n=1jpg?ig_cache_key=0MTIwMDI4NzI5MDIyOTcxNTAxMQ%3D%3D=12.2'"
      ]
     },
     "execution_count": 15,
     "metadata": {},
     "output_type": "execute_result"
    }
   ],
   "source": []
  },
  {
   "cell_type": "markdown",
   "metadata": {},
   "source": [
    "instagram pages stopped loading @ [ walaad, stylelist, burberry ]"
   ]
  }
 ],
 "metadata": {
  "kernelspec": {
   "display_name": "Python 2",
   "language": "python",
   "name": "python2"
  },
  "language_info": {
   "codemirror_mode": {
    "name": "ipython",
    "version": 2
   },
   "file_extension": ".py",
   "mimetype": "text/x-python",
   "name": "python",
   "nbconvert_exporter": "python",
   "pygments_lexer": "ipython2",
   "version": "2.7.11"
  }
 },
 "nbformat": 4,
 "nbformat_minor": 0
}
