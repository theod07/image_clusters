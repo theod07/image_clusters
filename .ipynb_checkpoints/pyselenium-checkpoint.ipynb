{
 "cells": [
  {
   "cell_type": "code",
   "execution_count": 224,
   "metadata": {
    "collapsed": false,
    "scrolled": false
   },
   "outputs": [
    {
     "ename": "NoSuchElementException",
     "evalue": "Message: Unable to locate element: {\"method\":\"link text\",\"selector\":\"LOAD MORE\"}\nStacktrace:\n    at FirefoxDriver.prototype.findElementInternal_ (file:///var/folders/1g/bvgzhq6s2kn4l9dm39kr9xs00000gn/T/tmpLPQ7BJ/extensions/fxdriver@googlecode.com/components/driver-component.js:10723)\n    at FirefoxDriver.prototype.findElement (file:///var/folders/1g/bvgzhq6s2kn4l9dm39kr9xs00000gn/T/tmpLPQ7BJ/extensions/fxdriver@googlecode.com/components/driver-component.js:10732)\n    at DelayedCommand.prototype.executeInternal_/h (file:///var/folders/1g/bvgzhq6s2kn4l9dm39kr9xs00000gn/T/tmpLPQ7BJ/extensions/fxdriver@googlecode.com/components/command-processor.js:12614)\n    at DelayedCommand.prototype.executeInternal_ (file:///var/folders/1g/bvgzhq6s2kn4l9dm39kr9xs00000gn/T/tmpLPQ7BJ/extensions/fxdriver@googlecode.com/components/command-processor.js:12619)\n    at DelayedCommand.prototype.execute/< (file:///var/folders/1g/bvgzhq6s2kn4l9dm39kr9xs00000gn/T/tmpLPQ7BJ/extensions/fxdriver@googlecode.com/components/command-processor.js:12561)",
     "output_type": "error",
     "traceback": [
      "\u001b[0;31m---------------------------------------------------------------------------\u001b[0m",
      "\u001b[0;31mNoSuchElementException\u001b[0m                    Traceback (most recent call last)",
      "\u001b[0;32m<ipython-input-224-be9be33843c3>\u001b[0m in \u001b[0;36m<module>\u001b[0;34m()\u001b[0m\n\u001b[1;32m     10\u001b[0m \u001b[0mdriver\u001b[0m \u001b[0;34m=\u001b[0m \u001b[0mwebdriver\u001b[0m\u001b[0;34m.\u001b[0m\u001b[0mFirefox\u001b[0m\u001b[0;34m(\u001b[0m\u001b[0;34m)\u001b[0m\u001b[0;34m\u001b[0m\u001b[0m\n\u001b[1;32m     11\u001b[0m \u001b[0mdriver\u001b[0m\u001b[0;34m.\u001b[0m\u001b[0mget\u001b[0m\u001b[0;34m(\u001b[0m\u001b[0murl\u001b[0m\u001b[0;34m)\u001b[0m\u001b[0;34m\u001b[0m\u001b[0m\n\u001b[0;32m---> 12\u001b[0;31m \u001b[0mdriver\u001b[0m\u001b[0;34m.\u001b[0m\u001b[0mfind_element_by_link_text\u001b[0m\u001b[0;34m(\u001b[0m\u001b[0;34m'LOAD MORE'\u001b[0m\u001b[0;34m)\u001b[0m\u001b[0;34m.\u001b[0m\u001b[0mclick\u001b[0m\u001b[0;34m(\u001b[0m\u001b[0;34m)\u001b[0m\u001b[0;34m\u001b[0m\u001b[0m\n\u001b[0m\u001b[1;32m     13\u001b[0m \u001b[0;34m\u001b[0m\u001b[0m\n\u001b[1;32m     14\u001b[0m \u001b[0;31m# soup = BeautifulSoup(driver.page_source)\u001b[0m\u001b[0;34m\u001b[0m\u001b[0;34m\u001b[0m\u001b[0m\n",
      "\u001b[0;32m/Users/wonder/anaconda/lib/python2.7/site-packages/selenium/webdriver/remote/webdriver.pyc\u001b[0m in \u001b[0;36mfind_element_by_link_text\u001b[0;34m(self, link_text)\u001b[0m\n\u001b[1;32m    280\u001b[0m             \u001b[0mdriver\u001b[0m\u001b[0;34m.\u001b[0m\u001b[0mfind_element_by_link_text\u001b[0m\u001b[0;34m(\u001b[0m\u001b[0;34m'Sign In'\u001b[0m\u001b[0;34m)\u001b[0m\u001b[0;34m\u001b[0m\u001b[0m\n\u001b[1;32m    281\u001b[0m         \"\"\"\n\u001b[0;32m--> 282\u001b[0;31m         \u001b[0;32mreturn\u001b[0m \u001b[0mself\u001b[0m\u001b[0;34m.\u001b[0m\u001b[0mfind_element\u001b[0m\u001b[0;34m(\u001b[0m\u001b[0mby\u001b[0m\u001b[0;34m=\u001b[0m\u001b[0mBy\u001b[0m\u001b[0;34m.\u001b[0m\u001b[0mLINK_TEXT\u001b[0m\u001b[0;34m,\u001b[0m \u001b[0mvalue\u001b[0m\u001b[0;34m=\u001b[0m\u001b[0mlink_text\u001b[0m\u001b[0;34m)\u001b[0m\u001b[0;34m\u001b[0m\u001b[0m\n\u001b[0m\u001b[1;32m    283\u001b[0m \u001b[0;34m\u001b[0m\u001b[0m\n\u001b[1;32m    284\u001b[0m     \u001b[0;32mdef\u001b[0m \u001b[0mfind_elements_by_link_text\u001b[0m\u001b[0;34m(\u001b[0m\u001b[0mself\u001b[0m\u001b[0;34m,\u001b[0m \u001b[0mtext\u001b[0m\u001b[0;34m)\u001b[0m\u001b[0;34m:\u001b[0m\u001b[0;34m\u001b[0m\u001b[0m\n",
      "\u001b[0;32m/Users/wonder/anaconda/lib/python2.7/site-packages/selenium/webdriver/remote/webdriver.pyc\u001b[0m in \u001b[0;36mfind_element\u001b[0;34m(self, by, value)\u001b[0m\n\u001b[1;32m    710\u001b[0m                 \u001b[0mvalue\u001b[0m \u001b[0;34m=\u001b[0m \u001b[0;34m'[name=\"%s\"]'\u001b[0m \u001b[0;34m%\u001b[0m \u001b[0mvalue\u001b[0m\u001b[0;34m\u001b[0m\u001b[0m\n\u001b[1;32m    711\u001b[0m         return self.execute(Command.FIND_ELEMENT,\n\u001b[0;32m--> 712\u001b[0;31m                              {'using': by, 'value': value})['value']\n\u001b[0m\u001b[1;32m    713\u001b[0m \u001b[0;34m\u001b[0m\u001b[0m\n\u001b[1;32m    714\u001b[0m     \u001b[0;32mdef\u001b[0m \u001b[0mfind_elements\u001b[0m\u001b[0;34m(\u001b[0m\u001b[0mself\u001b[0m\u001b[0;34m,\u001b[0m \u001b[0mby\u001b[0m\u001b[0;34m=\u001b[0m\u001b[0mBy\u001b[0m\u001b[0;34m.\u001b[0m\u001b[0mID\u001b[0m\u001b[0;34m,\u001b[0m \u001b[0mvalue\u001b[0m\u001b[0;34m=\u001b[0m\u001b[0mNone\u001b[0m\u001b[0;34m)\u001b[0m\u001b[0;34m:\u001b[0m\u001b[0;34m\u001b[0m\u001b[0m\n",
      "\u001b[0;32m/Users/wonder/anaconda/lib/python2.7/site-packages/selenium/webdriver/remote/webdriver.pyc\u001b[0m in \u001b[0;36mexecute\u001b[0;34m(self, driver_command, params)\u001b[0m\n\u001b[1;32m    199\u001b[0m         \u001b[0mresponse\u001b[0m \u001b[0;34m=\u001b[0m \u001b[0mself\u001b[0m\u001b[0;34m.\u001b[0m\u001b[0mcommand_executor\u001b[0m\u001b[0;34m.\u001b[0m\u001b[0mexecute\u001b[0m\u001b[0;34m(\u001b[0m\u001b[0mdriver_command\u001b[0m\u001b[0;34m,\u001b[0m \u001b[0mparams\u001b[0m\u001b[0;34m)\u001b[0m\u001b[0;34m\u001b[0m\u001b[0m\n\u001b[1;32m    200\u001b[0m         \u001b[0;32mif\u001b[0m \u001b[0mresponse\u001b[0m\u001b[0;34m:\u001b[0m\u001b[0;34m\u001b[0m\u001b[0m\n\u001b[0;32m--> 201\u001b[0;31m             \u001b[0mself\u001b[0m\u001b[0;34m.\u001b[0m\u001b[0merror_handler\u001b[0m\u001b[0;34m.\u001b[0m\u001b[0mcheck_response\u001b[0m\u001b[0;34m(\u001b[0m\u001b[0mresponse\u001b[0m\u001b[0;34m)\u001b[0m\u001b[0;34m\u001b[0m\u001b[0m\n\u001b[0m\u001b[1;32m    202\u001b[0m             response['value'] = self._unwrap_value(\n\u001b[1;32m    203\u001b[0m                 response.get('value', None))\n",
      "\u001b[0;32m/Users/wonder/anaconda/lib/python2.7/site-packages/selenium/webdriver/remote/errorhandler.pyc\u001b[0m in \u001b[0;36mcheck_response\u001b[0;34m(self, response)\u001b[0m\n\u001b[1;32m    192\u001b[0m         \u001b[0;32melif\u001b[0m \u001b[0mexception_class\u001b[0m \u001b[0;34m==\u001b[0m \u001b[0mUnexpectedAlertPresentException\u001b[0m \u001b[0;32mand\u001b[0m \u001b[0;34m'alert'\u001b[0m \u001b[0;32min\u001b[0m \u001b[0mvalue\u001b[0m\u001b[0;34m:\u001b[0m\u001b[0;34m\u001b[0m\u001b[0m\n\u001b[1;32m    193\u001b[0m             \u001b[0;32mraise\u001b[0m \u001b[0mexception_class\u001b[0m\u001b[0;34m(\u001b[0m\u001b[0mmessage\u001b[0m\u001b[0;34m,\u001b[0m \u001b[0mscreen\u001b[0m\u001b[0;34m,\u001b[0m \u001b[0mstacktrace\u001b[0m\u001b[0;34m,\u001b[0m \u001b[0mvalue\u001b[0m\u001b[0;34m[\u001b[0m\u001b[0;34m'alert'\u001b[0m\u001b[0;34m]\u001b[0m\u001b[0;34m.\u001b[0m\u001b[0mget\u001b[0m\u001b[0;34m(\u001b[0m\u001b[0;34m'text'\u001b[0m\u001b[0;34m)\u001b[0m\u001b[0;34m)\u001b[0m\u001b[0;34m\u001b[0m\u001b[0m\n\u001b[0;32m--> 194\u001b[0;31m         \u001b[0;32mraise\u001b[0m \u001b[0mexception_class\u001b[0m\u001b[0;34m(\u001b[0m\u001b[0mmessage\u001b[0m\u001b[0;34m,\u001b[0m \u001b[0mscreen\u001b[0m\u001b[0;34m,\u001b[0m \u001b[0mstacktrace\u001b[0m\u001b[0;34m)\u001b[0m\u001b[0;34m\u001b[0m\u001b[0m\n\u001b[0m\u001b[1;32m    195\u001b[0m \u001b[0;34m\u001b[0m\u001b[0m\n\u001b[1;32m    196\u001b[0m     \u001b[0;32mdef\u001b[0m \u001b[0m_value_or_default\u001b[0m\u001b[0;34m(\u001b[0m\u001b[0mself\u001b[0m\u001b[0;34m,\u001b[0m \u001b[0mobj\u001b[0m\u001b[0;34m,\u001b[0m \u001b[0mkey\u001b[0m\u001b[0;34m,\u001b[0m \u001b[0mdefault\u001b[0m\u001b[0;34m)\u001b[0m\u001b[0;34m:\u001b[0m\u001b[0;34m\u001b[0m\u001b[0m\n",
      "\u001b[0;31mNoSuchElementException\u001b[0m: Message: Unable to locate element: {\"method\":\"link text\",\"selector\":\"LOAD MORE\"}\nStacktrace:\n    at FirefoxDriver.prototype.findElementInternal_ (file:///var/folders/1g/bvgzhq6s2kn4l9dm39kr9xs00000gn/T/tmpLPQ7BJ/extensions/fxdriver@googlecode.com/components/driver-component.js:10723)\n    at FirefoxDriver.prototype.findElement (file:///var/folders/1g/bvgzhq6s2kn4l9dm39kr9xs00000gn/T/tmpLPQ7BJ/extensions/fxdriver@googlecode.com/components/driver-component.js:10732)\n    at DelayedCommand.prototype.executeInternal_/h (file:///var/folders/1g/bvgzhq6s2kn4l9dm39kr9xs00000gn/T/tmpLPQ7BJ/extensions/fxdriver@googlecode.com/components/command-processor.js:12614)\n    at DelayedCommand.prototype.executeInternal_ (file:///var/folders/1g/bvgzhq6s2kn4l9dm39kr9xs00000gn/T/tmpLPQ7BJ/extensions/fxdriver@googlecode.com/components/command-processor.js:12619)\n    at DelayedCommand.prototype.execute/< (file:///var/folders/1g/bvgzhq6s2kn4l9dm39kr9xs00000gn/T/tmpLPQ7BJ/extensions/fxdriver@googlecode.com/components/command-processor.js:12561)"
     ]
    }
   ],
   "source": [
    "# from bs4 import BeautifulSoup\n",
    "# import selenium.webdriver as webdriver\n",
    "# from selenium.webdriver.common.keys import Keys\n",
    "# import time\n",
    "# import os\n",
    "from selenium.common.exceptions import NoSuchElementException\n",
    "\n",
    "user = '1direct_newz'\n",
    "url = 'http://instagram.com/'+user\n",
    "\n",
    "driver = webdriver.Firefox()\n",
    "driver.get(url)\n",
    "\n",
    "# soup = BeautifulSoup(driver.page_source)\n",
    "# contents = soup.contents\n",
    "\n",
    "''' Need to click \"LOAD MORE\" button at bottom of initial page to reveal photos '''\n",
    "try:\n",
    "    driver.find_element_by_link_text('LOAD MORE').click()\n",
    "except NoSuchElementException:\n",
    "    print 'Sorry, this page isnt available: ', user\n",
    "\n",
    "\n",
    "''' Infinite scroll. Scroll down to bottom of page to reveal more photos\n",
    "    Need to find a smart way to scroll down until reach end of page '''\n",
    "# for i in xrange(5):\n",
    "#     driver.execute_script('window.scrollTo(0, document.body.scrollHeight);')\n",
    "#     time.sleep(1)\n",
    "\n",
    "''' Find href links to all photos on user`s opening page '''\n",
    "# all_a_tags = driver.find_elements_by_tag_name('a')\n",
    "# links = [a_tag.get_attribute('href') for a_tag in all_a_tags if a_tag.get_attribute('class') == '_8mlbc _t5r8b']\n",
    "\n",
    "\n",
    "''' Go to the link for the user'''\n",
    "# source_links = []\n",
    "# has_ovg3g = 0\n",
    "# nohas_ovg3g = 0\n",
    "# for link in links[:20]:\n",
    "    \n",
    "#     driver.get(link)\n",
    "#     tags = driver.find_elements_by_class_name('_ovg3g')\n",
    "#     if len(tags) > 0:\n",
    "#         has_ovg3g += 1\n",
    "#     else:\n",
    "#         print link\n",
    "#     for tag in tags:\n",
    "#         source_links.append(tag.get_attribute('data-reactid'))\n",
    "#     time.sleep(1)\n",
    "\n",
    "# print 'len(links): ', len(links)\n",
    "# print 'len(source_links): ', len(source_links)\n",
    "# print 'has_ovg3g: ', has_ovg3g\n",
    "# source_links[:20]\n",
    "\n",
    "# time.sleep(0)\n",
    "# len(links):  854\n",
    "# len(source_links):  24\n",
    "# has_ovg3g:  24\n",
    "\n",
    "# time.sleep(.2)\n",
    "# len(links):  854\n",
    "# len(source_links):  37\n",
    "# has_ovg3g:  37\n",
    "\n",
    "# time.sleep(1)\n",
    "# len(links):  854\n",
    "# len(source_links):  37\n",
    "# has_ovg3g:  37\n",
    "\n",
    "# driver.close()\n",
    "        "
   ]
  },
  {
   "cell_type": "code",
   "execution_count": 222,
   "metadata": {
    "collapsed": true
   },
   "outputs": [],
   "source": [
    "driver.close()"
   ]
  },
  {
   "cell_type": "code",
   "execution_count": 219,
   "metadata": {
    "collapsed": true
   },
   "outputs": [],
   "source": [
    "from selenium.webdriver.common.action_chains import ActionChains\n",
    "\n",
    "saveas = ActionChains(driver).key_down(Keys.COMMAND)\\\n",
    "         .send_keys('s').key_up(Keys.COMMAND)\n",
    "saveas.perform()"
   ]
  },
  {
   "cell_type": "code",
   "execution_count": 218,
   "metadata": {
    "collapsed": true
   },
   "outputs": [],
   "source": [
    "user = 'taylorswift'\n",
    "url = 'http://instagram.com/'+user\n",
    "\n",
    "fp = webdriver.FirefoxProfile()\n",
    "\n",
    "fp.set_preference(\"browser.download.folderList\",2)\n",
    "fp.set_preference(\"browser.download.manager.showWhenStarting\", False)\n",
    "fp.set_preference(\"browser.download.dir\", os.getcwd())\n",
    "fp.set_preference(\"browser.helperApps.neverAsk.saveToDisk\", \"application/octet-stream\")\n",
    "\n",
    "driver = webdriver.Firefox(firefox_profile=fp)\n",
    "driver.get(url)\n",
    "# browser.get(\"http://pypi.python.org/pypi/selenium\")\n",
    "# browser.find_element_by_partial_link_text(\"selenium-2\").click()\n",
    "\n",
    "driver.find_element_by_link_text('LOAD MORE').click()\n",
    "\n",
    "for i in xrange(5):\n",
    "    driver.execute_script('window.scrollTo(0, document.body.scrollHeight);')\n",
    "    time.sleep(1)\n",
    "\n"
   ]
  },
  {
   "cell_type": "code",
   "execution_count": 217,
   "metadata": {
    "collapsed": true
   },
   "outputs": [],
   "source": [
    "driver.close()"
   ]
  },
  {
   "cell_type": "code",
   "execution_count": 213,
   "metadata": {
    "collapsed": true
   },
   "outputs": [],
   "source": []
  },
  {
   "cell_type": "code",
   "execution_count": null,
   "metadata": {
    "collapsed": true
   },
   "outputs": [],
   "source": []
  }
 ],
 "metadata": {
  "kernelspec": {
   "display_name": "Python 2",
   "language": "python",
   "name": "python2"
  },
  "language_info": {
   "codemirror_mode": {
    "name": "ipython",
    "version": 2
   },
   "file_extension": ".py",
   "mimetype": "text/x-python",
   "name": "python",
   "nbconvert_exporter": "python",
   "pygments_lexer": "ipython2",
   "version": "2.7.11"
  }
 },
 "nbformat": 4,
 "nbformat_minor": 0
}
