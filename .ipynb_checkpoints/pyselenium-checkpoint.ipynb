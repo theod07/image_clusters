{
 "cells": [
  {
   "cell_type": "code",
   "execution_count": 187,
   "metadata": {
    "collapsed": false,
    "scrolled": false
   },
   "outputs": [
    {
     "name": "stdout",
     "output_type": "stream",
     "text": [
      "len(links):  854\n",
      "len(source_links):  24\n",
      "has_ovg3g:  24\n"
     ]
    },
    {
     "data": {
      "text/plain": [
       "[u'.0.1.0.0.0.$https=2//scontent-sea1-1=1cdninstagram=1com/t51=12885-15/e35/12783439_227038377646495_165023836_n=1jpg?ig_cache_key=0MTIwMDI4NzI5MDIyOTcxNTAxMQ%3D%3D=12.2',\n",
       " u'.0.1.0.0.0.$https=2//scontent-sea1-1=1cdninstagram=1com/t51=12885-15/e35/p480x480/12822517_207939649567337_1477831037_n=1jpg?ig_cache_key=0MTE5ODA0OTE2Mjc4MTcxNjk4NA%3D%3D=12.0:0.2',\n",
       " u'.0.1.0.0.0.$https=2//scontent-sea1-1=1cdninstagram=1com/t51=12885-15/e35/12747622_2170634363077265_1965558059_n=1jpg?ig_cache_key=0MTE5NzU0OTQwMTA0MTQ2NTM2Mg%3D%3D=12.2',\n",
       " u'.0.1.0.0.0.$https=2//scontent-sea1-1=1cdninstagram=1com/t51=12885-15/e35/p480x480/11371996_1990507964506737_1940515606_n=1jpg?ig_cache_key=0MTE5NjkwNTMzNzU3NzIwNjQ3MQ%3D%3D=12.2',\n",
       " u'.0.1.0.0.0.$https=2//scontent-sea1-1=1cdninstagram=1com/t51=12885-15/s750x750/sh0=108/e35/12728514_1688943401393583_1138769393_n=1jpg?ig_cache_key=0MTE5NTg2MzQ3NDkwNDY5MTM4MA%3D%3D=12.0:0.2',\n",
       " u'.0.1.0.0.0.$https=2//scontent-sea1-1=1cdninstagram=1com/t51=12885-15/e35/1171983_189561264739651_1155260373_n=1jpg?ig_cache_key=0MTE5MDA2MjA4MjYyNTU2NDY4OA%3D%3D=12.2',\n",
       " u'.0.1.0.0.0.$https=2//scontent-sea1-1=1cdninstagram=1com/t51=12885-15/sh0=108/e35/p750x750/12750245_884029535027954_1479848108_n=1jpg?ig_cache_key=0MTE5MDA2MTk3OTEzNTMwNzc4Nw%3D%3D=12.2',\n",
       " u'.0.1.0.0.0.$https=2//scontent-sea1-1=1cdninstagram=1com/t51=12885-15/e35/12747822_229567174056237_2031591514_n=1jpg?ig_cache_key=0MTE4OTYzMzIxNTM2MDMzMjc0OA%3D%3D=12.2',\n",
       " u'.0.1.0.0.0.$https=2//scontent-sea1-1=1cdninstagram=1com/t51=12885-15/e35/12725126_1570480409940610_1553406068_n=1jpg?ig_cache_key=0MTE4NzMzNDY1NTU1ODIxNzg3Mg%3D%3D=12.0:0.2',\n",
       " u'.0.1.0.0.0.$https=2//scontent-sea1-1=1cdninstagram=1com/t51=12885-15/e35/12748393_169027523475736_1270728961_n=1jpg?ig_cache_key=0MTE4NjUyNDczODEyMzM5NTMxOQ%3D%3D=12.2',\n",
       " u'.0.1.0.0.0.$https=2//scontent-sea1-1=1cdninstagram=1com/t51=12885-15/e35/12677577_968237056559381_1452087597_n=1jpg?ig_cache_key=0MTE4NjUyNDQ1ODI0NTg3ODAwMQ%3D%3D=12.2',\n",
       " u'.0.1.0.0.0.$https=2//scontent-sea1-1=1cdninstagram=1com/t51=12885-15/e35/12748377_1001902093210184_1579526402_n=1jpg?ig_cache_key=0MTE4NjQ4OTgzOTc5NDQ1MDgyMA%3D%3D=12.2',\n",
       " u'.0.1.0.0.0.$https=2//scontent-sea1-1=1cdninstagram=1com/t51=12885-15/e35/11258282_1680647705522932_1511231357_n=1jpg?ig_cache_key=0MTE4NTgxNDA2NTM3ODY4NTU2OQ%3D%3D=12.2',\n",
       " u'.0.1.0.0.0.$https=2//scontent-sea1-1=1cdninstagram=1com/t51=12885-15/e35/12558752_171023899935694_1099378807_n=1jpg?ig_cache_key=0MTE3NDQ2Mzg2MDgwOTA2ODk1Mw%3D%3D=12.0:0.2',\n",
       " u'.0.1.0.0.0.$https=2//scontent-sea1-1=1cdninstagram=1com/t51=12885-15/e35/12407390_1561486637509426_2038811664_n=1jpg?ig_cache_key=0MTE3NDQ2MjY3ODUxMDI2ODc5Nw%3D%3D=12.0:0.2',\n",
       " u'.0.1.0.0.0.$https=2//scontent-sea1-1=1cdninstagram=1com/t51=12885-15/e35/12568894_505444742950257_187380268_n=1jpg?ig_cache_key=0MTE3MDg3NTI0ODc5MjIzNjA2MQ%3D%3D=12.0:0.2',\n",
       " u'.0.1.0.0.0.$https=2//scontent-sea1-1=1cdninstagram=1com/t51=12885-15/e35/12543351_583414475157669_2111164272_n=1jpg?ig_cache_key=0MTE2NDEzOTI3MTMxMDczMzU5Mg%3D%3D=12.2',\n",
       " u'.0.1.0.0.0.$https=2//scontent-sea1-1=1cdninstagram=1com/t51=12885-15/e35/12558681_150736508635323_519030948_n=1jpg?ig_cache_key=0MTE2NDEzNjg5NjI5NDQ4MjE0NA%3D%3D=12.2',\n",
       " u'.0.1.0.0.0.$https=2//scontent-sea1-1=1cdninstagram=1com/t51=12885-15/e35/12519475_560854720734776_1760126497_n=1jpg?ig_cache_key=0MTE1ODg5NjA1ODA2NDg5MjI2Mw%3D%3D=12.2',\n",
       " u'.0.1.0.0.0.$https=2//scontent-sea1-1=1cdninstagram=1com/t51=12885-15/e35/12394004_466912553510164_1164361509_n=1jpg?ig_cache_key=0MTE1MzI4MTY5NjIwMTYzMzk5Nw%3D%3D=12.0:0.2']"
      ]
     },
     "execution_count": 187,
     "metadata": {},
     "output_type": "execute_result"
    }
   ],
   "source": [
    "# from bs4 import BeautifulSoup\n",
    "# import selenium.webdriver as webdriver\n",
    "# from selenium.webdriver.common.keys import Keys\n",
    "# import time\n",
    "\n",
    "# user = 'taylorswift'\n",
    "# url = 'http://instagram.com/'+user\n",
    "# driver = webdriver.Firefox()\n",
    "# driver.get(url)\n",
    "\n",
    "# soup = BeautifulSoup(driver.page_source)\n",
    "# contents = soup.contents\n",
    "\n",
    "''' Need to click \"LOAD MORE\" button at bottom of initial page to reveal photos '''\n",
    "# driver.find_element_by_link_text('LOAD MORE').click()\n",
    "\n",
    "\n",
    "''' Infinite scroll. Scroll down to bottom of page to reveal more photos\n",
    "    Need to find a smart way to scroll down until reach end of page '''\n",
    "# for i in xrange(200):\n",
    "#     driver.execute_script('window.scrollTo(0, document.body.scrollHeight);')\n",
    "#     time.sleep(1)\n",
    "\n",
    "''' Find href links to all photos on user`s opening page '''\n",
    "# all_a_tags = driver.find_elements_by_tag_name('a')\n",
    "# links = [a_tag.get_attribute('href') for a_tag in all_a_tags if a_tag.get_attribute('class') == '_8mlbc _t5r8b']\n",
    "\n",
    "\n",
    "''' Go to the link for the user'''\n",
    "source_links = []\n",
    "has_ovg3g = 0\n",
    "nohas_ovg3g = 0\n",
    "for link in links[:50]:\n",
    "    driver.get(link)\n",
    "    tags = driver.find_elements_by_class_name('_ovg3g')\n",
    "    if len(tags) > 0:\n",
    "        has_ovg3g += 1\n",
    "    for tag in tags:\n",
    "        source_links.append(tag.get_attribute('data-reactid'))\n",
    "    time.sleep(.2)\n",
    "\n",
    "print 'len(links): ', len(links)\n",
    "print 'len(source_links): ', len(source_links)\n",
    "print 'has_ovg3g: ', has_ovg3g\n",
    "source_links[:20]\n",
    "\n",
    "# len(links):  854\n",
    "# len(source_links):  24\n",
    "# has_ovg3g:  24\n",
    "\n",
    "# driver.close()\n",
    "        "
   ]
  },
  {
   "cell_type": "code",
   "execution_count": 188,
   "metadata": {
    "collapsed": false
   },
   "outputs": [
    {
     "data": {
      "text/plain": [
       "u'https://www.instagram.com/p/RiXye/?taken-by=taylorswift'"
      ]
     },
     "execution_count": 188,
     "metadata": {},
     "output_type": "execute_result"
    }
   ],
   "source": [
    "links[-1]"
   ]
  },
  {
   "cell_type": "code",
   "execution_count": 111,
   "metadata": {
    "collapsed": true
   },
   "outputs": [
    {
     "name": "stdout",
     "output_type": "stream",
     "text": [
      "0 _o0ohn\n",
      "1 _de9bg\n",
      "2 _8mm5v\n",
      "3 _bugdy\n",
      "4 \n",
      "5 _nljxa\n",
      "6 _myci9\n",
      "7 _22yr2\n",
      "8 _jjzlb\n",
      "9 _ovg3g\n",
      "10 _22yr2\n",
      "11 _jjzlb\n",
      "12 _ovg3g\n",
      "13 _22yr2\n",
      "14 _jjzlb\n",
      "15 _ovg3g\n",
      "16 _myci9\n",
      "17 _22yr2\n",
      "18 _jjzlb\n",
      "19 _ovg3g\n",
      "20 _22yr2\n",
      "21 _jjzlb\n",
      "22 _ovg3g\n",
      "23 _22yr2\n",
      "24 _jjzlb\n",
      "25 _ovg3g\n",
      "26 _myci9\n",
      "27 _22yr2\n",
      "28 _jjzlb\n",
      "29 _ovg3g\n",
      "30 _22yr2\n",
      "31 _jjzlb\n",
      "32 _ovg3g\n",
      "33 _22yr2\n",
      "34 _jjzlb\n",
      "35 _ovg3g\n",
      "36 _myci9\n",
      "37 _22yr2\n",
      "38 _jjzlb\n",
      "39 _ovg3g\n",
      "40 _22yr2\n",
      "41 _jjzlb\n",
      "42 _ovg3g\n",
      "43 _22yr2\n",
      "44 _jjzlb\n",
      "45 _ovg3g\n",
      "46 ResponsiveBlock\n",
      "47 rbSensor\n",
      "48 _pupj3\n",
      "49 _l09h7\n",
      "50 _ghexx\n",
      "51 _ju7e2 _icv3j\n",
      "52 _t1y9a\n",
      "53 _etslc\n",
      "54 _mhrsk _pcuq6\n",
      "55  fb_reset\n",
      "56 \n",
      "57 \n",
      "58 \n",
      "59 \n"
     ]
    }
   ],
   "source": [
    "from selenium.webdriver.common.action_chains import ActionChains\n",
    "\n",
    "\n",
    "def hover(self):\n",
    "    wd = webdriver_connection.connection\n",
    "    element = wd.find_element_by_link_text(self.locator)\n",
    "    hov = ActionChains(wd).move_to_element(element)\n",
    "    hov.perform()\n",
    "\n",
    "# user = 'eokuma'\n",
    "# url = 'http://instagram.com/'+user\n",
    "# driver = webdriver.Firefox()\n",
    "# driver.get(url)\n",
    "\n",
    "tags_span = driver.find_elements_by_tag_name('div')\n",
    "for i, tag in enumerate(tags_span):\n",
    "    print i, tag.get_attribute('class')"
   ]
  },
  {
   "cell_type": "code",
   "execution_count": 172,
   "metadata": {
    "collapsed": false
   },
   "outputs": [],
   "source": [
    "driver.close()"
   ]
  },
  {
   "cell_type": "code",
   "execution_count": null,
   "metadata": {
    "collapsed": true
   },
   "outputs": [],
   "source": []
  }
 ],
 "metadata": {
  "kernelspec": {
   "display_name": "Python 2",
   "language": "python",
   "name": "python2"
  },
  "language_info": {
   "codemirror_mode": {
    "name": "ipython",
    "version": 2
   },
   "file_extension": ".py",
   "mimetype": "text/x-python",
   "name": "python",
   "nbconvert_exporter": "python",
   "pygments_lexer": "ipython2",
   "version": "2.7.11"
  }
 },
 "nbformat": 4,
 "nbformat_minor": 0
}
